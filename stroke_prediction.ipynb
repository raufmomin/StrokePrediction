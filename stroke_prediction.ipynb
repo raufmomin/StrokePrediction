{
  "nbformat": 4,
  "nbformat_minor": 0,
  "metadata": {
    "colab": {
      "name": "stroke_prediction.ipynb",
      "provenance": []
    },
    "kernelspec": {
      "name": "python3",
      "display_name": "Python 3"
    },
    "language_info": {
      "name": "python"
    }
  },
  "cells": [
    {
      "cell_type": "markdown",
      "metadata": {
        "id": "AT6AwwSrxVgJ"
      },
      "source": [
        "# Import Statements"
      ]
    },
    {
      "cell_type": "code",
      "metadata": {
        "id": "ruAF2Ik5VxQU"
      },
      "source": [
        "import tensorflow as tf\n",
        "import tensorflow.keras.layers as L\n",
        "import numpy as np\n",
        "import pandas as pd\n",
        "import matplotlib.pyplot as plt\n",
        "import seaborn as sns\n",
        "from sklearn.pipeline import Pipeline\n",
        "from sklearn.preprocessing import StandardScaler\n",
        "from sklearn.tree import DecisionTreeRegressor\n",
        "from sklearn.model_selection import train_test_split"
      ],
      "execution_count": null,
      "outputs": []
    },
    {
      "cell_type": "markdown",
      "metadata": {
        "id": "ICxVgG_eY9Iv"
      },
      "source": [
        "# Attribute Information\n",
        "</br> 1) id: unique identifier\n",
        "</br> 2) gender: \"Male\", \"Female\" or \"Other\"\n",
        "</br> 3) age: age of the patient\n",
        "</br> 4) hypertension: 0 if the patient doesn't have hypertension, 1 if the patient has hypertension\n",
        "</br> 5) heart_disease: 0 if the patient doesn't have any heart diseases, 1 if the patient has a heart disease\n",
        "</br> 6) ever_married: \"No\" or \"Yes\"\n",
        "</br> 7) work_type: \"children\", \"Govt_jov\", \"Never_worked\", \"Private\" or \"Self-employed\"\n",
        "</br> 8) Residence_type: \"Rural\" or \"Urban\"\n",
        "</br> 9) avg_glucose_level: average glucose level in blood\n",
        "</br> 10) bmi: body mass index\n",
        "</br> 11) smoking_status: \"formerly smoked\", \"never smoked\", \"smokes\" or \"Unknown\"*\n",
        "</br> 12) stroke: 1 if the patient had a stroke or 0 if not\n",
        "</br> *Note: \"Unknown\" in smoking_status means that the information is unavailable for this patient"
      ]
    },
    {
      "cell_type": "code",
      "metadata": {
        "id": "ykm61tXpV5nq"
      },
      "source": [
        "df = pd.read_csv('/content/drive/MyDrive/Datasets/healthcare-dataset-stroke-data.csv')"
      ],
      "execution_count": null,
      "outputs": []
    },
    {
      "cell_type": "code",
      "metadata": {
        "colab": {
          "base_uri": "https://localhost:8080/",
          "height": 204
        },
        "id": "9_0IrAoBV-H6",
        "outputId": "0cd81370-3bc1-4610-a127-5e2f52b78a36"
      },
      "source": [
        "df.head()"
      ],
      "execution_count": null,
      "outputs": [
        {
          "output_type": "execute_result",
          "data": {
            "text/html": [
              "<div>\n",
              "<style scoped>\n",
              "    .dataframe tbody tr th:only-of-type {\n",
              "        vertical-align: middle;\n",
              "    }\n",
              "\n",
              "    .dataframe tbody tr th {\n",
              "        vertical-align: top;\n",
              "    }\n",
              "\n",
              "    .dataframe thead th {\n",
              "        text-align: right;\n",
              "    }\n",
              "</style>\n",
              "<table border=\"1\" class=\"dataframe\">\n",
              "  <thead>\n",
              "    <tr style=\"text-align: right;\">\n",
              "      <th></th>\n",
              "      <th>id</th>\n",
              "      <th>gender</th>\n",
              "      <th>age</th>\n",
              "      <th>hypertension</th>\n",
              "      <th>heart_disease</th>\n",
              "      <th>ever_married</th>\n",
              "      <th>work_type</th>\n",
              "      <th>Residence_type</th>\n",
              "      <th>avg_glucose_level</th>\n",
              "      <th>bmi</th>\n",
              "      <th>smoking_status</th>\n",
              "      <th>stroke</th>\n",
              "    </tr>\n",
              "  </thead>\n",
              "  <tbody>\n",
              "    <tr>\n",
              "      <th>0</th>\n",
              "      <td>9046</td>\n",
              "      <td>Male</td>\n",
              "      <td>67.0</td>\n",
              "      <td>0</td>\n",
              "      <td>1</td>\n",
              "      <td>Yes</td>\n",
              "      <td>Private</td>\n",
              "      <td>Urban</td>\n",
              "      <td>228.69</td>\n",
              "      <td>36.6</td>\n",
              "      <td>formerly smoked</td>\n",
              "      <td>1</td>\n",
              "    </tr>\n",
              "    <tr>\n",
              "      <th>1</th>\n",
              "      <td>51676</td>\n",
              "      <td>Female</td>\n",
              "      <td>61.0</td>\n",
              "      <td>0</td>\n",
              "      <td>0</td>\n",
              "      <td>Yes</td>\n",
              "      <td>Self-employed</td>\n",
              "      <td>Rural</td>\n",
              "      <td>202.21</td>\n",
              "      <td>NaN</td>\n",
              "      <td>never smoked</td>\n",
              "      <td>1</td>\n",
              "    </tr>\n",
              "    <tr>\n",
              "      <th>2</th>\n",
              "      <td>31112</td>\n",
              "      <td>Male</td>\n",
              "      <td>80.0</td>\n",
              "      <td>0</td>\n",
              "      <td>1</td>\n",
              "      <td>Yes</td>\n",
              "      <td>Private</td>\n",
              "      <td>Rural</td>\n",
              "      <td>105.92</td>\n",
              "      <td>32.5</td>\n",
              "      <td>never smoked</td>\n",
              "      <td>1</td>\n",
              "    </tr>\n",
              "    <tr>\n",
              "      <th>3</th>\n",
              "      <td>60182</td>\n",
              "      <td>Female</td>\n",
              "      <td>49.0</td>\n",
              "      <td>0</td>\n",
              "      <td>0</td>\n",
              "      <td>Yes</td>\n",
              "      <td>Private</td>\n",
              "      <td>Urban</td>\n",
              "      <td>171.23</td>\n",
              "      <td>34.4</td>\n",
              "      <td>smokes</td>\n",
              "      <td>1</td>\n",
              "    </tr>\n",
              "    <tr>\n",
              "      <th>4</th>\n",
              "      <td>1665</td>\n",
              "      <td>Female</td>\n",
              "      <td>79.0</td>\n",
              "      <td>1</td>\n",
              "      <td>0</td>\n",
              "      <td>Yes</td>\n",
              "      <td>Self-employed</td>\n",
              "      <td>Rural</td>\n",
              "      <td>174.12</td>\n",
              "      <td>24.0</td>\n",
              "      <td>never smoked</td>\n",
              "      <td>1</td>\n",
              "    </tr>\n",
              "  </tbody>\n",
              "</table>\n",
              "</div>"
            ],
            "text/plain": [
              "      id  gender   age  ...   bmi   smoking_status stroke\n",
              "0   9046    Male  67.0  ...  36.6  formerly smoked      1\n",
              "1  51676  Female  61.0  ...   NaN     never smoked      1\n",
              "2  31112    Male  80.0  ...  32.5     never smoked      1\n",
              "3  60182  Female  49.0  ...  34.4           smokes      1\n",
              "4   1665  Female  79.0  ...  24.0     never smoked      1\n",
              "\n",
              "[5 rows x 12 columns]"
            ]
          },
          "metadata": {
            "tags": []
          },
          "execution_count": 3
        }
      ]
    },
    {
      "cell_type": "markdown",
      "metadata": {
        "id": "wW1ZtlfqcFxh"
      },
      "source": [
        "# Correlation Table"
      ]
    },
    {
      "cell_type": "code",
      "metadata": {
        "colab": {
          "base_uri": "https://localhost:8080/",
          "height": 266
        },
        "id": "oTqPwlg8cB3f",
        "outputId": "31a16f29-fe94-47ec-8816-cb34567c8297"
      },
      "source": [
        "df.corr()"
      ],
      "execution_count": null,
      "outputs": [
        {
          "output_type": "execute_result",
          "data": {
            "text/html": [
              "<div>\n",
              "<style scoped>\n",
              "    .dataframe tbody tr th:only-of-type {\n",
              "        vertical-align: middle;\n",
              "    }\n",
              "\n",
              "    .dataframe tbody tr th {\n",
              "        vertical-align: top;\n",
              "    }\n",
              "\n",
              "    .dataframe thead th {\n",
              "        text-align: right;\n",
              "    }\n",
              "</style>\n",
              "<table border=\"1\" class=\"dataframe\">\n",
              "  <thead>\n",
              "    <tr style=\"text-align: right;\">\n",
              "      <th></th>\n",
              "      <th>id</th>\n",
              "      <th>age</th>\n",
              "      <th>hypertension</th>\n",
              "      <th>heart_disease</th>\n",
              "      <th>avg_glucose_level</th>\n",
              "      <th>bmi</th>\n",
              "      <th>stroke</th>\n",
              "    </tr>\n",
              "  </thead>\n",
              "  <tbody>\n",
              "    <tr>\n",
              "      <th>id</th>\n",
              "      <td>1.000000</td>\n",
              "      <td>0.003538</td>\n",
              "      <td>0.003550</td>\n",
              "      <td>-0.001296</td>\n",
              "      <td>0.001092</td>\n",
              "      <td>0.003084</td>\n",
              "      <td>0.006388</td>\n",
              "    </tr>\n",
              "    <tr>\n",
              "      <th>age</th>\n",
              "      <td>0.003538</td>\n",
              "      <td>1.000000</td>\n",
              "      <td>0.276398</td>\n",
              "      <td>0.263796</td>\n",
              "      <td>0.238171</td>\n",
              "      <td>0.333398</td>\n",
              "      <td>0.245257</td>\n",
              "    </tr>\n",
              "    <tr>\n",
              "      <th>hypertension</th>\n",
              "      <td>0.003550</td>\n",
              "      <td>0.276398</td>\n",
              "      <td>1.000000</td>\n",
              "      <td>0.108306</td>\n",
              "      <td>0.174474</td>\n",
              "      <td>0.167811</td>\n",
              "      <td>0.127904</td>\n",
              "    </tr>\n",
              "    <tr>\n",
              "      <th>heart_disease</th>\n",
              "      <td>-0.001296</td>\n",
              "      <td>0.263796</td>\n",
              "      <td>0.108306</td>\n",
              "      <td>1.000000</td>\n",
              "      <td>0.161857</td>\n",
              "      <td>0.041357</td>\n",
              "      <td>0.134914</td>\n",
              "    </tr>\n",
              "    <tr>\n",
              "      <th>avg_glucose_level</th>\n",
              "      <td>0.001092</td>\n",
              "      <td>0.238171</td>\n",
              "      <td>0.174474</td>\n",
              "      <td>0.161857</td>\n",
              "      <td>1.000000</td>\n",
              "      <td>0.175502</td>\n",
              "      <td>0.131945</td>\n",
              "    </tr>\n",
              "    <tr>\n",
              "      <th>bmi</th>\n",
              "      <td>0.003084</td>\n",
              "      <td>0.333398</td>\n",
              "      <td>0.167811</td>\n",
              "      <td>0.041357</td>\n",
              "      <td>0.175502</td>\n",
              "      <td>1.000000</td>\n",
              "      <td>0.042374</td>\n",
              "    </tr>\n",
              "    <tr>\n",
              "      <th>stroke</th>\n",
              "      <td>0.006388</td>\n",
              "      <td>0.245257</td>\n",
              "      <td>0.127904</td>\n",
              "      <td>0.134914</td>\n",
              "      <td>0.131945</td>\n",
              "      <td>0.042374</td>\n",
              "      <td>1.000000</td>\n",
              "    </tr>\n",
              "  </tbody>\n",
              "</table>\n",
              "</div>"
            ],
            "text/plain": [
              "                         id       age  ...       bmi    stroke\n",
              "id                 1.000000  0.003538  ...  0.003084  0.006388\n",
              "age                0.003538  1.000000  ...  0.333398  0.245257\n",
              "hypertension       0.003550  0.276398  ...  0.167811  0.127904\n",
              "heart_disease     -0.001296  0.263796  ...  0.041357  0.134914\n",
              "avg_glucose_level  0.001092  0.238171  ...  0.175502  0.131945\n",
              "bmi                0.003084  0.333398  ...  1.000000  0.042374\n",
              "stroke             0.006388  0.245257  ...  0.042374  1.000000\n",
              "\n",
              "[7 rows x 7 columns]"
            ]
          },
          "metadata": {
            "tags": []
          },
          "execution_count": 4
        }
      ]
    },
    {
      "cell_type": "markdown",
      "metadata": {
        "id": "hnQoO7KEYKj1"
      },
      "source": [
        "# Checking the class count"
      ]
    },
    {
      "cell_type": "code",
      "metadata": {
        "colab": {
          "base_uri": "https://localhost:8080/"
        },
        "id": "z4ZpQv1pV_QH",
        "outputId": "dc31bd79-89ac-47c8-a139-f29a5adf8703"
      },
      "source": [
        "df.count()"
      ],
      "execution_count": null,
      "outputs": [
        {
          "output_type": "execute_result",
          "data": {
            "text/plain": [
              "id                   5110\n",
              "gender               5110\n",
              "age                  5110\n",
              "hypertension         5110\n",
              "heart_disease        5110\n",
              "ever_married         5110\n",
              "work_type            5110\n",
              "Residence_type       5110\n",
              "avg_glucose_level    5110\n",
              "bmi                  4909\n",
              "smoking_status       5110\n",
              "stroke               5110\n",
              "dtype: int64"
            ]
          },
          "metadata": {
            "tags": []
          },
          "execution_count": 5
        }
      ]
    },
    {
      "cell_type": "markdown",
      "metadata": {
        "id": "LTdK9FnZYM8s"
      },
      "source": [
        "# Describing the dataset"
      ]
    },
    {
      "cell_type": "code",
      "metadata": {
        "colab": {
          "base_uri": "https://localhost:8080/",
          "height": 297
        },
        "id": "_eTTimk9WCBi",
        "outputId": "afae9a65-cafb-460c-bc42-6863cc8c75cd"
      },
      "source": [
        "df.describe()"
      ],
      "execution_count": null,
      "outputs": [
        {
          "output_type": "execute_result",
          "data": {
            "text/html": [
              "<div>\n",
              "<style scoped>\n",
              "    .dataframe tbody tr th:only-of-type {\n",
              "        vertical-align: middle;\n",
              "    }\n",
              "\n",
              "    .dataframe tbody tr th {\n",
              "        vertical-align: top;\n",
              "    }\n",
              "\n",
              "    .dataframe thead th {\n",
              "        text-align: right;\n",
              "    }\n",
              "</style>\n",
              "<table border=\"1\" class=\"dataframe\">\n",
              "  <thead>\n",
              "    <tr style=\"text-align: right;\">\n",
              "      <th></th>\n",
              "      <th>id</th>\n",
              "      <th>age</th>\n",
              "      <th>hypertension</th>\n",
              "      <th>heart_disease</th>\n",
              "      <th>avg_glucose_level</th>\n",
              "      <th>bmi</th>\n",
              "      <th>stroke</th>\n",
              "    </tr>\n",
              "  </thead>\n",
              "  <tbody>\n",
              "    <tr>\n",
              "      <th>count</th>\n",
              "      <td>5110.000000</td>\n",
              "      <td>5110.000000</td>\n",
              "      <td>5110.000000</td>\n",
              "      <td>5110.000000</td>\n",
              "      <td>5110.000000</td>\n",
              "      <td>4909.000000</td>\n",
              "      <td>5110.000000</td>\n",
              "    </tr>\n",
              "    <tr>\n",
              "      <th>mean</th>\n",
              "      <td>36517.829354</td>\n",
              "      <td>43.226614</td>\n",
              "      <td>0.097456</td>\n",
              "      <td>0.054012</td>\n",
              "      <td>106.147677</td>\n",
              "      <td>28.893237</td>\n",
              "      <td>0.048728</td>\n",
              "    </tr>\n",
              "    <tr>\n",
              "      <th>std</th>\n",
              "      <td>21161.721625</td>\n",
              "      <td>22.612647</td>\n",
              "      <td>0.296607</td>\n",
              "      <td>0.226063</td>\n",
              "      <td>45.283560</td>\n",
              "      <td>7.854067</td>\n",
              "      <td>0.215320</td>\n",
              "    </tr>\n",
              "    <tr>\n",
              "      <th>min</th>\n",
              "      <td>67.000000</td>\n",
              "      <td>0.080000</td>\n",
              "      <td>0.000000</td>\n",
              "      <td>0.000000</td>\n",
              "      <td>55.120000</td>\n",
              "      <td>10.300000</td>\n",
              "      <td>0.000000</td>\n",
              "    </tr>\n",
              "    <tr>\n",
              "      <th>25%</th>\n",
              "      <td>17741.250000</td>\n",
              "      <td>25.000000</td>\n",
              "      <td>0.000000</td>\n",
              "      <td>0.000000</td>\n",
              "      <td>77.245000</td>\n",
              "      <td>23.500000</td>\n",
              "      <td>0.000000</td>\n",
              "    </tr>\n",
              "    <tr>\n",
              "      <th>50%</th>\n",
              "      <td>36932.000000</td>\n",
              "      <td>45.000000</td>\n",
              "      <td>0.000000</td>\n",
              "      <td>0.000000</td>\n",
              "      <td>91.885000</td>\n",
              "      <td>28.100000</td>\n",
              "      <td>0.000000</td>\n",
              "    </tr>\n",
              "    <tr>\n",
              "      <th>75%</th>\n",
              "      <td>54682.000000</td>\n",
              "      <td>61.000000</td>\n",
              "      <td>0.000000</td>\n",
              "      <td>0.000000</td>\n",
              "      <td>114.090000</td>\n",
              "      <td>33.100000</td>\n",
              "      <td>0.000000</td>\n",
              "    </tr>\n",
              "    <tr>\n",
              "      <th>max</th>\n",
              "      <td>72940.000000</td>\n",
              "      <td>82.000000</td>\n",
              "      <td>1.000000</td>\n",
              "      <td>1.000000</td>\n",
              "      <td>271.740000</td>\n",
              "      <td>97.600000</td>\n",
              "      <td>1.000000</td>\n",
              "    </tr>\n",
              "  </tbody>\n",
              "</table>\n",
              "</div>"
            ],
            "text/plain": [
              "                 id          age  ...          bmi       stroke\n",
              "count   5110.000000  5110.000000  ...  4909.000000  5110.000000\n",
              "mean   36517.829354    43.226614  ...    28.893237     0.048728\n",
              "std    21161.721625    22.612647  ...     7.854067     0.215320\n",
              "min       67.000000     0.080000  ...    10.300000     0.000000\n",
              "25%    17741.250000    25.000000  ...    23.500000     0.000000\n",
              "50%    36932.000000    45.000000  ...    28.100000     0.000000\n",
              "75%    54682.000000    61.000000  ...    33.100000     0.000000\n",
              "max    72940.000000    82.000000  ...    97.600000     1.000000\n",
              "\n",
              "[8 rows x 7 columns]"
            ]
          },
          "metadata": {
            "tags": []
          },
          "execution_count": 6
        }
      ]
    },
    {
      "cell_type": "markdown",
      "metadata": {
        "id": "Twv1ly15zI0r"
      },
      "source": [
        "# Data Visualizations (Graphs)"
      ]
    },
    {
      "cell_type": "code",
      "metadata": {
        "colab": {
          "base_uri": "https://localhost:8080/",
          "height": 1000
        },
        "id": "bg9NkyvrySfQ",
        "outputId": "dac752d7-ea91-4adb-aad2-df1a87966424"
      },
      "source": [
        "sns.set_theme(style = \"darkgrid\")\n",
        "sns.countplot(data = df, x = \"gender\")\n",
        "plt.show()\n",
        "\n",
        "sns.set_theme(style = \"darkgrid\")\n",
        "sns.countplot(data = df, x = \"age\")\n",
        "plt.show()\n",
        "\n",
        "sns.set_theme(style = \"darkgrid\")\n",
        "sns.countplot(data = df, x = \"hypertension\")\n",
        "plt.show()\n",
        "\n",
        "sns.set_theme(style = \"darkgrid\")\n",
        "sns.countplot(data = df, x = \"heart_disease\")\n",
        "plt.show()\n",
        "\n",
        "sns.set_theme(style = \"darkgrid\")\n",
        "sns.countplot(data = df, x = \"ever_married\")\n",
        "plt.show()\n",
        "\n",
        "sns.set_theme(style = \"darkgrid\")\n",
        "sns.countplot(data = df, x = \"work_type\")\n",
        "plt.show()\n",
        "         \n",
        "sns.set_theme(style = \"darkgrid\")\n",
        "sns.countplot(data = df, x = \"Residence_type\")\n",
        "plt.show()\n",
        "\n",
        "sns.set_theme(style = \"darkgrid\")\n",
        "sns.distplot(df.avg_glucose_level, color=\"orange\", label=\"avg_glucose_level\", kde = True)\n",
        "plt.show()\n",
        "         \n",
        "sns.set_theme(style = \"darkgrid\")\n",
        "sns.distplot(df.bmi, color=\"orange\", label=\"bmi\", kde = True)\n",
        "plt.show()\n",
        "     \n",
        "sns.set_theme(style = \"darkgrid\")\n",
        "sns.countplot(data = df, x = \"smoking_status\")\n",
        "plt.show()\n",
        "    \n",
        "sns.set_theme(style = \"darkgrid\")\n",
        "sns.countplot(data = df, x = \"stroke\")\n",
        "plt.show()"
      ],
      "execution_count": null,
      "outputs": [
        {
          "output_type": "display_data",
          "data": {
            "image/png": "[encoded data removed]",
            "text/plain": [
              "<Figure size 432x288 with 1 Axes>"
            ]
          },
          "metadata": {
            "tags": []
          }
        },
        {
          "output_type": "display_data",
          "data": {
            "image/png": "[encoded data removed]",
            "text/plain": [
              "<Figure size 432x288 with 1 Axes>"
            ]
          },
          "metadata": {
            "tags": []
          }
        },
        {
          "output_type": "display_data",
          "data": {
            "image/png": "[encoded data removed]",
            "text/plain": [
              "<Figure size 432x288 with 1 Axes>"
            ]
          },
          "metadata": {
            "tags": []
          }
        },
        {
          "output_type": "display_data",
          "data": {
            "image/png": "[encoded data removed]",
            "text/plain": [
              "<Figure size 432x288 with 1 Axes>"
            ]
          },
          "metadata": {
            "tags": []
          }
        },
        {
          "output_type": "display_data",
          "data": {
            "image/png": "[encoded data removed]",
            "text/plain": [
              "<Figure size 432x288 with 1 Axes>"
            ]
          },
          "metadata": {
            "tags": []
          }
        },
        {
          "output_type": "display_data",
          "data": {
            "image/png": "[encoded data removed]",
            "text/plain": [
              "<Figure size 432x288 with 1 Axes>"
            ]
          },
          "metadata": {
            "tags": []
          }
        },
        {
          "output_type": "display_data",
          "data": {
            "image/png": "[encoded data removed]",
            "text/plain": [
              "<Figure size 432x288 with 1 Axes>"
            ]
          },
          "metadata": {
            "tags": []
          }
        },
        {
          "output_type": "stream",
          "text": [
            "/usr/local/lib/python3.7/dist-packages/seaborn/distributions.py:2557: FutureWarning: `distplot` is a deprecated function and will be removed in a future version. Please adapt your code to use either `displot` (a figure-level function with similar flexibility) or `histplot` (an axes-level function for histograms).\n",
            "  warnings.warn(msg, FutureWarning)\n"
          ],
          "name": "stderr"
        },
        {
          "output_type": "display_data",
          "data": {
            "image/png": "[encoded data removed]",
            "text/plain": [
              "<Figure size 432x288 with 1 Axes>"
            ]
          },
          "metadata": {
            "tags": []
          }
        },
        {
          "output_type": "stream",
          "text": [
            "/usr/local/lib/python3.7/dist-packages/seaborn/distributions.py:2557: FutureWarning: `distplot` is a deprecated function and will be removed in a future version. Please adapt your code to use either `displot` (a figure-level function with similar flexibility) or `histplot` (an axes-level function for histograms).\n",
            "  warnings.warn(msg, FutureWarning)\n"
          ],
          "name": "stderr"
        },
        {
          "output_type": "display_data",
          "data": {
            "image/png": "[encoded data removed]",
            "text/plain": [
              "<Figure size 432x288 with 1 Axes>"
            ]
          },
          "metadata": {
            "tags": []
          }
        },
        {
          "output_type": "display_data",
          "data": {
            "image/png": "[encoded data removed]",
            "text/plain": [
              "<Figure size 432x288 with 1 Axes>"
            ]
          },
          "metadata": {
            "tags": []
          }
        },
        {
          "output_type": "display_data",
          "data": {
            "image/png": "[encoded data removed]",
            "text/plain": [
              "<Figure size 432x288 with 1 Axes>"
            ]
          },
          "metadata": {
            "tags": []
          }
        }
      ]
    },
    {
      "cell_type": "markdown",
      "metadata": {
        "id": "xzPyBsm01epu"
      },
      "source": [
        "# Dealing with missing labels"
      ]
    },
    {
      "cell_type": "code",
      "metadata": {
        "colab": {
          "base_uri": "https://localhost:8080/"
        },
        "id": "yiZIJLo_1jbY",
        "outputId": "06da00e9-fe96-4f85-ff7d-b935c56754fe"
      },
      "source": [
        "df.isnull().sum()"
      ],
      "execution_count": null,
      "outputs": [
        {
          "output_type": "execute_result",
          "data": {
            "text/plain": [
              "id                     0\n",
              "gender                 0\n",
              "age                    0\n",
              "hypertension           0\n",
              "heart_disease          0\n",
              "ever_married           0\n",
              "work_type              0\n",
              "Residence_type         0\n",
              "avg_glucose_level      0\n",
              "bmi                  201\n",
              "smoking_status         0\n",
              "stroke                 0\n",
              "dtype: int64"
            ]
          },
          "metadata": {
            "tags": []
          },
          "execution_count": 8
        }
      ]
    },
    {
      "cell_type": "code",
      "metadata": {
        "id": "z-sFIBHq1rat"
      },
      "source": [
        "# We will use a Decision Tree to predict the missing BMI\n",
        "\n",
        "dt_bmi_pipeline = Pipeline(steps=[('scale', StandardScaler()), ('lr', DecisionTreeRegressor(random_state = 0))])\n",
        "\n",
        "X = df[['age','gender','bmi']].copy()\n",
        "X.gender = X.gender.replace({'Male':0,'Female':1,'Other':-1}).astype(np.uint8)\n",
        "\n",
        "missing = X[X.bmi.isna()]\n",
        "X = X[~X.bmi.isna()]\n",
        "Y = X.pop('bmi')\n",
        "dt_bmi_pipeline.fit(X, Y)\n",
        "predicted_bmi = pd.Series(dt_bmi_pipeline.predict(missing[['age','gender']]),index = missing.index)\n",
        "df.loc[missing.index,'bmi'] = predicted_bmi"
      ],
      "execution_count": null,
      "outputs": []
    },
    {
      "cell_type": "code",
      "metadata": {
        "colab": {
          "base_uri": "https://localhost:8080/"
        },
        "id": "TQs_hiSD6yn3",
        "outputId": "1b9a0c9d-59ff-4227-fdf9-b8a94432d7c9"
      },
      "source": [
        "print('Verifying the dataframe')\n",
        "df.isnull().sum()"
      ],
      "execution_count": null,
      "outputs": [
        {
          "output_type": "stream",
          "text": [
            "Verifying the dataframe\n"
          ],
          "name": "stdout"
        },
        {
          "output_type": "execute_result",
          "data": {
            "text/plain": [
              "id                   0\n",
              "gender               0\n",
              "age                  0\n",
              "hypertension         0\n",
              "heart_disease        0\n",
              "ever_married         0\n",
              "work_type            0\n",
              "Residence_type       0\n",
              "avg_glucose_level    0\n",
              "bmi                  0\n",
              "smoking_status       0\n",
              "stroke               0\n",
              "dtype: int64"
            ]
          },
          "metadata": {
            "tags": []
          },
          "execution_count": 10
        }
      ]
    },
    {
      "cell_type": "code",
      "metadata": {
        "id": "TSC21pbU7ZWg"
      },
      "source": [
        "df[\"Residence_type\"] = df[\"Residence_type\"].apply(lambda x: 1 if x==\"Urban\" else 0)\n",
        "df[\"ever_married\"] = df[\"ever_married\"].apply(lambda x: 1 if x==\"Yes\" else 0)\n",
        "df[\"gender\"] = df[\"gender\"].apply(lambda x: 1 if x==\"Male\" else 0)\n",
        "\n",
        "df['work_type'] = df['work_type'].replace({'Govt_job':1,'Never_worked':2,'Private':3,'Self-employed':4,'children':5}).astype(np.uint8)\n",
        "df['smoking_status'] = df['smoking_status'].replace({'Unknown':1,'formerly smoked':2,'never smoked':3,'smokes':4}).astype(np.uint8)"
      ],
      "execution_count": null,
      "outputs": []
    },
    {
      "cell_type": "code",
      "metadata": {
        "id": "SPnQtRJUpZH3",
        "colab": {
          "base_uri": "https://localhost:8080/",
          "height": 419
        },
        "outputId": "ee960e5f-f3a9-4196-eabf-1db7ac103643"
      },
      "source": [
        "df"
      ],
      "execution_count": null,
      "outputs": [
        {
          "output_type": "execute_result",
          "data": {
            "text/html": [
              "<div>\n",
              "<style scoped>\n",
              "    .dataframe tbody tr th:only-of-type {\n",
              "        vertical-align: middle;\n",
              "    }\n",
              "\n",
              "    .dataframe tbody tr th {\n",
              "        vertical-align: top;\n",
              "    }\n",
              "\n",
              "    .dataframe thead th {\n",
              "        text-align: right;\n",
              "    }\n",
              "</style>\n",
              "<table border=\"1\" class=\"dataframe\">\n",
              "  <thead>\n",
              "    <tr style=\"text-align: right;\">\n",
              "      <th></th>\n",
              "      <th>id</th>\n",
              "      <th>gender</th>\n",
              "      <th>age</th>\n",
              "      <th>hypertension</th>\n",
              "      <th>heart_disease</th>\n",
              "      <th>ever_married</th>\n",
              "      <th>work_type</th>\n",
              "      <th>Residence_type</th>\n",
              "      <th>avg_glucose_level</th>\n",
              "      <th>bmi</th>\n",
              "      <th>smoking_status</th>\n",
              "      <th>stroke</th>\n",
              "    </tr>\n",
              "  </thead>\n",
              "  <tbody>\n",
              "    <tr>\n",
              "      <th>0</th>\n",
              "      <td>9046</td>\n",
              "      <td>1</td>\n",
              "      <td>67.0</td>\n",
              "      <td>0</td>\n",
              "      <td>1</td>\n",
              "      <td>1</td>\n",
              "      <td>3</td>\n",
              "      <td>1</td>\n",
              "      <td>228.69</td>\n",
              "      <td>36.600000</td>\n",
              "      <td>2</td>\n",
              "      <td>1</td>\n",
              "    </tr>\n",
              "    <tr>\n",
              "      <th>1</th>\n",
              "      <td>51676</td>\n",
              "      <td>0</td>\n",
              "      <td>61.0</td>\n",
              "      <td>0</td>\n",
              "      <td>0</td>\n",
              "      <td>1</td>\n",
              "      <td>4</td>\n",
              "      <td>0</td>\n",
              "      <td>202.21</td>\n",
              "      <td>29.879487</td>\n",
              "      <td>3</td>\n",
              "      <td>1</td>\n",
              "    </tr>\n",
              "    <tr>\n",
              "      <th>2</th>\n",
              "      <td>31112</td>\n",
              "      <td>1</td>\n",
              "      <td>80.0</td>\n",
              "      <td>0</td>\n",
              "      <td>1</td>\n",
              "      <td>1</td>\n",
              "      <td>3</td>\n",
              "      <td>0</td>\n",
              "      <td>105.92</td>\n",
              "      <td>32.500000</td>\n",
              "      <td>3</td>\n",
              "      <td>1</td>\n",
              "    </tr>\n",
              "    <tr>\n",
              "      <th>3</th>\n",
              "      <td>60182</td>\n",
              "      <td>0</td>\n",
              "      <td>49.0</td>\n",
              "      <td>0</td>\n",
              "      <td>0</td>\n",
              "      <td>1</td>\n",
              "      <td>3</td>\n",
              "      <td>1</td>\n",
              "      <td>171.23</td>\n",
              "      <td>34.400000</td>\n",
              "      <td>4</td>\n",
              "      <td>1</td>\n",
              "    </tr>\n",
              "    <tr>\n",
              "      <th>4</th>\n",
              "      <td>1665</td>\n",
              "      <td>0</td>\n",
              "      <td>79.0</td>\n",
              "      <td>1</td>\n",
              "      <td>0</td>\n",
              "      <td>1</td>\n",
              "      <td>4</td>\n",
              "      <td>0</td>\n",
              "      <td>174.12</td>\n",
              "      <td>24.000000</td>\n",
              "      <td>3</td>\n",
              "      <td>1</td>\n",
              "    </tr>\n",
              "    <tr>\n",
              "      <th>...</th>\n",
              "      <td>...</td>\n",
              "      <td>...</td>\n",
              "      <td>...</td>\n",
              "      <td>...</td>\n",
              "      <td>...</td>\n",
              "      <td>...</td>\n",
              "      <td>...</td>\n",
              "      <td>...</td>\n",
              "      <td>...</td>\n",
              "      <td>...</td>\n",
              "      <td>...</td>\n",
              "      <td>...</td>\n",
              "    </tr>\n",
              "    <tr>\n",
              "      <th>5105</th>\n",
              "      <td>18234</td>\n",
              "      <td>0</td>\n",
              "      <td>80.0</td>\n",
              "      <td>1</td>\n",
              "      <td>0</td>\n",
              "      <td>1</td>\n",
              "      <td>3</td>\n",
              "      <td>1</td>\n",
              "      <td>83.75</td>\n",
              "      <td>28.476923</td>\n",
              "      <td>3</td>\n",
              "      <td>0</td>\n",
              "    </tr>\n",
              "    <tr>\n",
              "      <th>5106</th>\n",
              "      <td>44873</td>\n",
              "      <td>0</td>\n",
              "      <td>81.0</td>\n",
              "      <td>0</td>\n",
              "      <td>0</td>\n",
              "      <td>1</td>\n",
              "      <td>4</td>\n",
              "      <td>1</td>\n",
              "      <td>125.20</td>\n",
              "      <td>40.000000</td>\n",
              "      <td>3</td>\n",
              "      <td>0</td>\n",
              "    </tr>\n",
              "    <tr>\n",
              "      <th>5107</th>\n",
              "      <td>19723</td>\n",
              "      <td>0</td>\n",
              "      <td>35.0</td>\n",
              "      <td>0</td>\n",
              "      <td>0</td>\n",
              "      <td>1</td>\n",
              "      <td>4</td>\n",
              "      <td>0</td>\n",
              "      <td>82.99</td>\n",
              "      <td>30.600000</td>\n",
              "      <td>3</td>\n",
              "      <td>0</td>\n",
              "    </tr>\n",
              "    <tr>\n",
              "      <th>5108</th>\n",
              "      <td>37544</td>\n",
              "      <td>1</td>\n",
              "      <td>51.0</td>\n",
              "      <td>0</td>\n",
              "      <td>0</td>\n",
              "      <td>1</td>\n",
              "      <td>3</td>\n",
              "      <td>0</td>\n",
              "      <td>166.29</td>\n",
              "      <td>25.600000</td>\n",
              "      <td>2</td>\n",
              "      <td>0</td>\n",
              "    </tr>\n",
              "    <tr>\n",
              "      <th>5109</th>\n",
              "      <td>44679</td>\n",
              "      <td>0</td>\n",
              "      <td>44.0</td>\n",
              "      <td>0</td>\n",
              "      <td>0</td>\n",
              "      <td>1</td>\n",
              "      <td>1</td>\n",
              "      <td>1</td>\n",
              "      <td>85.28</td>\n",
              "      <td>26.200000</td>\n",
              "      <td>1</td>\n",
              "      <td>0</td>\n",
              "    </tr>\n",
              "  </tbody>\n",
              "</table>\n",
              "<p>5110 rows × 12 columns</p>\n",
              "</div>"
            ],
            "text/plain": [
              "         id  gender   age  ...        bmi  smoking_status  stroke\n",
              "0      9046       1  67.0  ...  36.600000               2       1\n",
              "1     51676       0  61.0  ...  29.879487               3       1\n",
              "2     31112       1  80.0  ...  32.500000               3       1\n",
              "3     60182       0  49.0  ...  34.400000               4       1\n",
              "4      1665       0  79.0  ...  24.000000               3       1\n",
              "...     ...     ...   ...  ...        ...             ...     ...\n",
              "5105  18234       0  80.0  ...  28.476923               3       0\n",
              "5106  44873       0  81.0  ...  40.000000               3       0\n",
              "5107  19723       0  35.0  ...  30.600000               3       0\n",
              "5108  37544       1  51.0  ...  25.600000               2       0\n",
              "5109  44679       0  44.0  ...  26.200000               1       0\n",
              "\n",
              "[5110 rows x 12 columns]"
            ]
          },
          "metadata": {
            "tags": []
          },
          "execution_count": 12
        }
      ]
    },
    {
      "cell_type": "code",
      "metadata": {
        "id": "NSijms8U8z54"
      },
      "source": [
        "scaling = False\n",
        "\n",
        "if scaling:\n",
        "    std = StandardScaler()\n",
        "    columns = ['avg_glucose_level','bmi','age']\n",
        "    scaled = std.fit_transform(df[['avg_glucose_level','bmi','age']])\n",
        "    scaled = pd.DataFrame(scaled, columns=columns)\n",
        "    df = df.drop(columns=columns, axis=1)\n",
        "    df = df.merge(scaled, left_index=True, right_index=True, how = \"left\")\n",
        "    df.head()"
      ],
      "execution_count": null,
      "outputs": []
    },
    {
      "cell_type": "markdown",
      "metadata": {
        "id": "1vlBLd1Nzuz5"
      },
      "source": [
        "# Building the Model"
      ]
    },
    {
      "cell_type": "code",
      "metadata": {
        "id": "u_IGFTRfz96y"
      },
      "source": [
        "df = df.drop(columns='id', axis=1)\n",
        "X = df.drop(['stroke'], axis=1).values\n",
        "y = df['stroke'].values"
      ],
      "execution_count": null,
      "outputs": []
    },
    {
      "cell_type": "code",
      "metadata": {
        "id": "YVFxaLbN0ady"
      },
      "source": [
        "X_train, X_test, y_train, y_test = train_test_split(X, y, test_size=0.2, random_state=0)"
      ],
      "execution_count": null,
      "outputs": []
    },
    {
      "cell_type": "code",
      "metadata": {
        "colab": {
          "base_uri": "https://localhost:8080/"
        },
        "id": "eryIsxsJ9lE-",
        "outputId": "b4567161-355c-45e4-d8f1-b5295800a7d4"
      },
      "source": [
        "model = tf.keras.Sequential([\n",
        "    L.Input(shape=(10)),\n",
        "    L.Dense(50, activation = 'selu'),\n",
        "    L.BatchNormalization(),\n",
        "    L.Dense(50, activation = 'selu'),\n",
        "    L.BatchNormalization(),\n",
        "    L.Dense(50, activation = 'selu'),\n",
        "    L.BatchNormalization(),\n",
        "    L.Dense(1, activation = 'sigmoid')\n",
        "])\n",
        "\n",
        "model.compile(optimizer = 'sgd', loss = tf.keras.losses.BinaryCrossentropy(), metrics = ['accuracy'])\n",
        "model.summary()"
      ],
      "execution_count": null,
      "outputs": [
        {
          "output_type": "stream",
          "text": [
            "Model: \"sequential\"\n",
            "_________________________________________________________________\n",
            "Layer (type)                 Output Shape              Param #   \n",
            "=================================================================\n",
            "dense (Dense)                (None, 50)                550       \n",
            "_________________________________________________________________\n",
            "batch_normalization (BatchNo (None, 50)                200       \n",
            "_________________________________________________________________\n",
            "dense_1 (Dense)              (None, 50)                2550      \n",
            "_________________________________________________________________\n",
            "batch_normalization_1 (Batch (None, 50)                200       \n",
            "_________________________________________________________________\n",
            "dense_2 (Dense)              (None, 50)                2550      \n",
            "_________________________________________________________________\n",
            "batch_normalization_2 (Batch (None, 50)                200       \n",
            "_________________________________________________________________\n",
            "dense_3 (Dense)              (None, 1)                 51        \n",
            "=================================================================\n",
            "Total params: 6,301\n",
            "Trainable params: 6,001\n",
            "Non-trainable params: 300\n",
            "_________________________________________________________________\n"
          ],
          "name": "stdout"
        }
      ]
    },
    {
      "cell_type": "code",
      "metadata": {
        "colab": {
          "base_uri": "https://localhost:8080/"
        },
        "id": "6DUec0LO-CSL",
        "outputId": "106987c5-1961-494a-b965-b19e8937d28d"
      },
      "source": [
        "model.fit(X_train, y_train, validation_data = (X_test, y_test), epochs = 50, verbose = 1)"
      ],
      "execution_count": null,
      "outputs": [
        {
          "output_type": "stream",
          "text": [
            "Epoch 1/50\n",
            "128/128 [==============================] - 2s 5ms/step - loss: 0.5909 - accuracy: 0.7428 - val_loss: 0.7567 - val_accuracy: 0.4198\n",
            "Epoch 2/50\n",
            "128/128 [==============================] - 0s 2ms/step - loss: 0.3164 - accuracy: 0.9456 - val_loss: 0.5005 - val_accuracy: 0.9198\n",
            "Epoch 3/50\n",
            "128/128 [==============================] - 0s 2ms/step - loss: 0.2280 - accuracy: 0.9530 - val_loss: 0.2730 - val_accuracy: 0.9462\n",
            "Epoch 4/50\n",
            "128/128 [==============================] - 0s 2ms/step - loss: 0.1982 - accuracy: 0.9495 - val_loss: 0.2087 - val_accuracy: 0.9472\n",
            "Epoch 5/50\n",
            "128/128 [==============================] - 0s 2ms/step - loss: 0.1927 - accuracy: 0.9454 - val_loss: 0.1883 - val_accuracy: 0.9472\n",
            "Epoch 6/50\n",
            "128/128 [==============================] - 0s 2ms/step - loss: 0.1639 - accuracy: 0.9550 - val_loss: 0.1779 - val_accuracy: 0.9472\n",
            "Epoch 7/50\n",
            "128/128 [==============================] - 0s 2ms/step - loss: 0.1858 - accuracy: 0.9441 - val_loss: 0.1782 - val_accuracy: 0.9472\n",
            "Epoch 8/50\n",
            "128/128 [==============================] - 0s 2ms/step - loss: 0.1622 - accuracy: 0.9522 - val_loss: 0.1748 - val_accuracy: 0.9472\n",
            "Epoch 9/50\n",
            "128/128 [==============================] - 0s 2ms/step - loss: 0.1459 - accuracy: 0.9580 - val_loss: 0.1702 - val_accuracy: 0.9472\n",
            "Epoch 10/50\n",
            "128/128 [==============================] - 0s 2ms/step - loss: 0.1685 - accuracy: 0.9494 - val_loss: 0.1720 - val_accuracy: 0.9472\n",
            "Epoch 11/50\n",
            "128/128 [==============================] - 0s 2ms/step - loss: 0.1563 - accuracy: 0.9561 - val_loss: 0.1701 - val_accuracy: 0.9472\n",
            "Epoch 12/50\n",
            "128/128 [==============================] - 0s 2ms/step - loss: 0.1505 - accuracy: 0.9562 - val_loss: 0.1757 - val_accuracy: 0.9472\n",
            "Epoch 13/50\n",
            "128/128 [==============================] - 0s 2ms/step - loss: 0.1515 - accuracy: 0.9541 - val_loss: 0.1701 - val_accuracy: 0.9472\n",
            "Epoch 14/50\n",
            "128/128 [==============================] - 0s 2ms/step - loss: 0.1577 - accuracy: 0.9522 - val_loss: 0.1721 - val_accuracy: 0.9472\n",
            "Epoch 15/50\n",
            "128/128 [==============================] - 0s 2ms/step - loss: 0.1562 - accuracy: 0.9506 - val_loss: 0.1729 - val_accuracy: 0.9472\n",
            "Epoch 16/50\n",
            "128/128 [==============================] - 0s 2ms/step - loss: 0.1580 - accuracy: 0.9516 - val_loss: 0.1713 - val_accuracy: 0.9472\n",
            "Epoch 17/50\n",
            "128/128 [==============================] - 0s 2ms/step - loss: 0.1556 - accuracy: 0.9518 - val_loss: 0.1764 - val_accuracy: 0.9472\n",
            "Epoch 18/50\n",
            "128/128 [==============================] - 0s 2ms/step - loss: 0.1629 - accuracy: 0.9502 - val_loss: 0.1698 - val_accuracy: 0.9472\n",
            "Epoch 19/50\n",
            "128/128 [==============================] - 0s 2ms/step - loss: 0.1555 - accuracy: 0.9535 - val_loss: 0.1695 - val_accuracy: 0.9472\n",
            "Epoch 20/50\n",
            "128/128 [==============================] - 0s 2ms/step - loss: 0.1545 - accuracy: 0.9523 - val_loss: 0.1728 - val_accuracy: 0.9472\n",
            "Epoch 21/50\n",
            "128/128 [==============================] - 0s 2ms/step - loss: 0.1598 - accuracy: 0.9508 - val_loss: 0.1711 - val_accuracy: 0.9472\n",
            "Epoch 22/50\n",
            "128/128 [==============================] - 0s 2ms/step - loss: 0.1497 - accuracy: 0.9549 - val_loss: 0.1693 - val_accuracy: 0.9472\n",
            "Epoch 23/50\n",
            "128/128 [==============================] - 0s 2ms/step - loss: 0.1547 - accuracy: 0.9533 - val_loss: 0.1715 - val_accuracy: 0.9472\n",
            "Epoch 24/50\n",
            "128/128 [==============================] - 0s 2ms/step - loss: 0.1625 - accuracy: 0.9489 - val_loss: 0.1717 - val_accuracy: 0.9472\n",
            "Epoch 25/50\n",
            "128/128 [==============================] - 0s 2ms/step - loss: 0.1524 - accuracy: 0.9513 - val_loss: 0.1700 - val_accuracy: 0.9472\n",
            "Epoch 26/50\n",
            "128/128 [==============================] - 0s 2ms/step - loss: 0.1502 - accuracy: 0.9540 - val_loss: 0.1696 - val_accuracy: 0.9462\n",
            "Epoch 27/50\n",
            "128/128 [==============================] - 0s 2ms/step - loss: 0.1611 - accuracy: 0.9491 - val_loss: 0.1697 - val_accuracy: 0.9472\n",
            "Epoch 28/50\n",
            "128/128 [==============================] - 0s 2ms/step - loss: 0.1646 - accuracy: 0.9463 - val_loss: 0.1699 - val_accuracy: 0.9472\n",
            "Epoch 29/50\n",
            "128/128 [==============================] - 0s 2ms/step - loss: 0.1690 - accuracy: 0.9451 - val_loss: 0.1701 - val_accuracy: 0.9472\n",
            "Epoch 30/50\n",
            "128/128 [==============================] - 0s 2ms/step - loss: 0.1639 - accuracy: 0.9498 - val_loss: 0.1718 - val_accuracy: 0.9472\n",
            "Epoch 31/50\n",
            "128/128 [==============================] - 0s 2ms/step - loss: 0.1548 - accuracy: 0.9516 - val_loss: 0.1740 - val_accuracy: 0.9472\n",
            "Epoch 32/50\n",
            "128/128 [==============================] - 0s 2ms/step - loss: 0.1463 - accuracy: 0.9548 - val_loss: 0.1838 - val_accuracy: 0.9472\n",
            "Epoch 33/50\n",
            "128/128 [==============================] - 0s 2ms/step - loss: 0.1533 - accuracy: 0.9535 - val_loss: 0.1783 - val_accuracy: 0.9472\n",
            "Epoch 34/50\n",
            "128/128 [==============================] - 0s 2ms/step - loss: 0.1575 - accuracy: 0.9483 - val_loss: 0.1751 - val_accuracy: 0.9472\n",
            "Epoch 35/50\n",
            "128/128 [==============================] - 0s 2ms/step - loss: 0.1627 - accuracy: 0.9487 - val_loss: 0.1689 - val_accuracy: 0.9472\n",
            "Epoch 36/50\n",
            "128/128 [==============================] - 0s 2ms/step - loss: 0.1520 - accuracy: 0.9536 - val_loss: 0.1714 - val_accuracy: 0.9472\n",
            "Epoch 37/50\n",
            "128/128 [==============================] - 0s 2ms/step - loss: 0.1507 - accuracy: 0.9536 - val_loss: 0.1693 - val_accuracy: 0.9472\n",
            "Epoch 38/50\n",
            "128/128 [==============================] - 0s 2ms/step - loss: 0.1554 - accuracy: 0.9492 - val_loss: 0.1703 - val_accuracy: 0.9472\n",
            "Epoch 39/50\n",
            "128/128 [==============================] - 0s 2ms/step - loss: 0.1417 - accuracy: 0.9551 - val_loss: 0.1706 - val_accuracy: 0.9472\n",
            "Epoch 40/50\n",
            "128/128 [==============================] - 0s 2ms/step - loss: 0.1490 - accuracy: 0.9529 - val_loss: 0.1712 - val_accuracy: 0.9472\n",
            "Epoch 41/50\n",
            "128/128 [==============================] - 0s 2ms/step - loss: 0.1611 - accuracy: 0.9496 - val_loss: 0.1759 - val_accuracy: 0.9472\n",
            "Epoch 42/50\n",
            "128/128 [==============================] - 0s 2ms/step - loss: 0.1555 - accuracy: 0.9524 - val_loss: 0.1708 - val_accuracy: 0.9472\n",
            "Epoch 43/50\n",
            "128/128 [==============================] - 0s 2ms/step - loss: 0.1443 - accuracy: 0.9568 - val_loss: 0.1729 - val_accuracy: 0.9472\n",
            "Epoch 44/50\n",
            "128/128 [==============================] - 0s 2ms/step - loss: 0.1501 - accuracy: 0.9523 - val_loss: 0.1727 - val_accuracy: 0.9472\n",
            "Epoch 45/50\n",
            "128/128 [==============================] - 0s 2ms/step - loss: 0.1552 - accuracy: 0.9531 - val_loss: 0.1692 - val_accuracy: 0.9472\n",
            "Epoch 46/50\n",
            "128/128 [==============================] - 0s 2ms/step - loss: 0.1549 - accuracy: 0.9537 - val_loss: 0.1731 - val_accuracy: 0.9472\n",
            "Epoch 47/50\n",
            "128/128 [==============================] - 0s 2ms/step - loss: 0.1581 - accuracy: 0.9482 - val_loss: 0.1754 - val_accuracy: 0.9472\n",
            "Epoch 48/50\n",
            "128/128 [==============================] - 0s 2ms/step - loss: 0.1524 - accuracy: 0.9534 - val_loss: 0.1714 - val_accuracy: 0.9472\n",
            "Epoch 49/50\n",
            "128/128 [==============================] - 0s 2ms/step - loss: 0.1535 - accuracy: 0.9528 - val_loss: 0.1726 - val_accuracy: 0.9472\n",
            "Epoch 50/50\n",
            "128/128 [==============================] - 0s 2ms/step - loss: 0.1547 - accuracy: 0.9517 - val_loss: 0.1740 - val_accuracy: 0.9472\n"
          ],
          "name": "stdout"
        },
        {
          "output_type": "execute_result",
          "data": {
            "text/plain": [
              "<tensorflow.python.keras.callbacks.History at 0x7f82b0ec1450>"
            ]
          },
          "metadata": {
            "tags": []
          },
          "execution_count": 17
        }
      ]
    },
    {
      "cell_type": "code",
      "metadata": {
        "id": "yr--h8gQ-Dlq"
      },
      "source": [
        "model.save('stroke.h5')"
      ],
      "execution_count": null,
      "outputs": []
    },
    {
      "cell_type": "code",
      "metadata": {
        "id": "1TeR7ilX_IeQ",
        "colab": {
          "base_uri": "https://localhost:8080/"
        },
        "outputId": "b2ef3ae3-b606-45ad-eaca-35c3855c9826"
      },
      "source": [
        "train_acc = model.evaluate(X_train, y_train, verbose = False)\n",
        "test_acc = model.evaluate(X_test, y_test, verbose = False)\n",
        "\n",
        "print('Train Accuracy: ', train_acc[1]*100)\n",
        "print('Test Accuracy: ', test_acc[1]*100)"
      ],
      "execution_count": null,
      "outputs": [
        {
          "output_type": "stream",
          "text": [
            "Train Accuracy:  95.20547986030579\n",
            "Test Accuracy:  94.71624493598938\n"
          ],
          "name": "stdout"
        }
      ]
    }
  ]
}